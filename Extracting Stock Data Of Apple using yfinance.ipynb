{
 "cells": [
  {
   "cell_type": "code",
   "execution_count": 1,
   "metadata": {
    "collapsed": true,
    "ExecuteTime": {
     "start_time": "2023-06-05T01:20:43.150434Z",
     "end_time": "2023-06-05T01:20:43.170112Z"
    }
   },
   "outputs": [],
   "source": [
    "#pip install yfinance\n",
    "#pip install pandas"
   ]
  },
  {
   "cell_type": "code",
   "execution_count": 27,
   "outputs": [],
   "source": [
    "import yfinance as yf\n",
    "import pandas as pd\n",
    "import wget\n"
   ],
   "metadata": {
    "collapsed": false,
    "ExecuteTime": {
     "start_time": "2023-06-05T02:12:37.286836Z",
     "end_time": "2023-06-05T02:12:37.304631Z"
    }
   }
  },
  {
   "cell_type": "markdown",
   "source": [
    "Using the `Ticker` module we can create an object that will allow us to access functions to extract data. To do this we need to provide the ticker symbol for the stock, here the company is Apple and the ticker symbol is `AAPL`.\n"
   ],
   "metadata": {
    "collapsed": false
   }
  },
  {
   "cell_type": "code",
   "execution_count": 30,
   "outputs": [
    {
     "name": "stdout",
     "output_type": "stream",
     "text": [
      "yfinance.Ticker object <AAPL>\n"
     ]
    }
   ],
   "source": [
    "apple = yf.Ticker('AAPL')\n",
    "print(apple)\n",
    "# Ticker must be with capital T"
   ],
   "metadata": {
    "collapsed": false,
    "ExecuteTime": {
     "start_time": "2023-06-05T02:12:53.806540Z",
     "end_time": "2023-06-05T02:12:53.827813Z"
    }
   }
  },
  {
   "cell_type": "code",
   "execution_count": 46,
   "outputs": [
    {
     "name": "stdout",
     "output_type": "stream",
     "text": [
      "apple (1).json\n"
     ]
    }
   ],
   "source": [
    "import wget\n",
    "url = 'https://cf-courses-data.s3.us.cloud-object-storage.appdomain.cloud/IBMDeveloperSkillsNetwork-PY0220EN-SkillsNetwork/data/apple.json'\n",
    "filename = wget.download(url)\n",
    "print(filename)"
   ],
   "metadata": {
    "collapsed": false,
    "ExecuteTime": {
     "start_time": "2023-06-05T03:02:53.427698Z",
     "end_time": "2023-06-05T03:02:55.236078Z"
    }
   }
  },
  {
   "cell_type": "markdown",
   "source": [
    "##  Stock Info"
   ],
   "metadata": {
    "collapsed": false
   }
  },
  {
   "cell_type": "code",
   "execution_count": 45,
   "outputs": [],
   "source": [
    "import json\n",
    "with open('apple.json') as json_file:\n",
    "    apple_info = json.load(json_file)\n",
    "    apple_info['country']"
   ],
   "metadata": {
    "collapsed": false,
    "ExecuteTime": {
     "start_time": "2023-06-05T03:02:43.559091Z",
     "end_time": "2023-06-05T03:02:43.571934Z"
    }
   }
  },
  {
   "cell_type": "markdown",
   "source": [
    "## Extracting Share Price"
   ],
   "metadata": {
    "collapsed": false
   }
  },
  {
   "cell_type": "markdown",
   "source": [
    "A share is the single smallest part of a company's stock that you can buy, the prices of these shares fluctuate over time. Using the history() method we can get the share price of the stock over a certain period of time. Using the period parameter we can set how far back from the present to get data. The options for period are 1 day (1d), 5d, 1 month (1mo) , 3mo, 6mo, 1 year (1y), 2y, 5y, 10y, ytd, and max."
   ],
   "metadata": {
    "collapsed": false
   }
  },
  {
   "cell_type": "code",
   "execution_count": 38,
   "outputs": [],
   "source": [
    "apple_share_price_data = apple.history(period=\"max\")\n"
   ],
   "metadata": {
    "collapsed": false,
    "ExecuteTime": {
     "start_time": "2023-06-05T02:23:13.014093Z",
     "end_time": "2023-06-05T02:23:17.262163Z"
    }
   }
  },
  {
   "cell_type": "markdown",
   "source": [
    "The format that the data is returned in is a Pandas DataFrame. With the `Date` as the index the share `Open`, `High`, `Low`, `Close`, `Volume`, and `Stock Splits` are given for each day.\n"
   ],
   "metadata": {
    "collapsed": false
   }
  },
  {
   "cell_type": "code",
   "execution_count": 39,
   "outputs": [
    {
     "data": {
      "text/plain": "                               Open      High       Low     Close     Volume  \\\nDate                                                                           \n1980-12-12 00:00:00-05:00  0.099584  0.100017  0.099584  0.099584  469033600   \n1980-12-15 00:00:00-05:00  0.094821  0.094821  0.094388  0.094388  175884800   \n1980-12-16 00:00:00-05:00  0.087893  0.087893  0.087461  0.087461  105728000   \n1980-12-17 00:00:00-05:00  0.089625  0.090058  0.089625  0.089625   86441600   \n1980-12-18 00:00:00-05:00  0.092224  0.092657  0.092224  0.092224   73449600   \n\n                           Dividends  Stock Splits  \nDate                                                \n1980-12-12 00:00:00-05:00        0.0           0.0  \n1980-12-15 00:00:00-05:00        0.0           0.0  \n1980-12-16 00:00:00-05:00        0.0           0.0  \n1980-12-17 00:00:00-05:00        0.0           0.0  \n1980-12-18 00:00:00-05:00        0.0           0.0  ",
      "text/html": "<div>\n<style scoped>\n    .dataframe tbody tr th:only-of-type {\n        vertical-align: middle;\n    }\n\n    .dataframe tbody tr th {\n        vertical-align: top;\n    }\n\n    .dataframe thead th {\n        text-align: right;\n    }\n</style>\n<table border=\"1\" class=\"dataframe\">\n  <thead>\n    <tr style=\"text-align: right;\">\n      <th></th>\n      <th>Open</th>\n      <th>High</th>\n      <th>Low</th>\n      <th>Close</th>\n      <th>Volume</th>\n      <th>Dividends</th>\n      <th>Stock Splits</th>\n    </tr>\n    <tr>\n      <th>Date</th>\n      <th></th>\n      <th></th>\n      <th></th>\n      <th></th>\n      <th></th>\n      <th></th>\n      <th></th>\n    </tr>\n  </thead>\n  <tbody>\n    <tr>\n      <th>1980-12-12 00:00:00-05:00</th>\n      <td>0.099584</td>\n      <td>0.100017</td>\n      <td>0.099584</td>\n      <td>0.099584</td>\n      <td>469033600</td>\n      <td>0.0</td>\n      <td>0.0</td>\n    </tr>\n    <tr>\n      <th>1980-12-15 00:00:00-05:00</th>\n      <td>0.094821</td>\n      <td>0.094821</td>\n      <td>0.094388</td>\n      <td>0.094388</td>\n      <td>175884800</td>\n      <td>0.0</td>\n      <td>0.0</td>\n    </tr>\n    <tr>\n      <th>1980-12-16 00:00:00-05:00</th>\n      <td>0.087893</td>\n      <td>0.087893</td>\n      <td>0.087461</td>\n      <td>0.087461</td>\n      <td>105728000</td>\n      <td>0.0</td>\n      <td>0.0</td>\n    </tr>\n    <tr>\n      <th>1980-12-17 00:00:00-05:00</th>\n      <td>0.089625</td>\n      <td>0.090058</td>\n      <td>0.089625</td>\n      <td>0.089625</td>\n      <td>86441600</td>\n      <td>0.0</td>\n      <td>0.0</td>\n    </tr>\n    <tr>\n      <th>1980-12-18 00:00:00-05:00</th>\n      <td>0.092224</td>\n      <td>0.092657</td>\n      <td>0.092224</td>\n      <td>0.092224</td>\n      <td>73449600</td>\n      <td>0.0</td>\n      <td>0.0</td>\n    </tr>\n  </tbody>\n</table>\n</div>"
     },
     "execution_count": 39,
     "metadata": {},
     "output_type": "execute_result"
    }
   ],
   "source": [
    "apple_share_price_data.head()"
   ],
   "metadata": {
    "collapsed": false,
    "ExecuteTime": {
     "start_time": "2023-06-05T02:24:22.039339Z",
     "end_time": "2023-06-05T02:24:22.157708Z"
    }
   }
  },
  {
   "cell_type": "code",
   "execution_count": 41,
   "outputs": [],
   "source": [
    "apple_share_price_data.reset_index(inplace=True)"
   ],
   "metadata": {
    "collapsed": false,
    "ExecuteTime": {
     "start_time": "2023-06-05T02:27:04.336128Z",
     "end_time": "2023-06-05T02:27:04.361836Z"
    }
   }
  },
  {
   "cell_type": "markdown",
   "source": [
    "We can plot the `Open` price against the `Date`:\n"
   ],
   "metadata": {
    "collapsed": false
   }
  },
  {
   "cell_type": "code",
   "execution_count": 42,
   "outputs": [
    {
     "data": {
      "text/plain": "<Axes: xlabel='Date'>"
     },
     "execution_count": 42,
     "metadata": {},
     "output_type": "execute_result"
    },
    {
     "data": {
      "text/plain": "<Figure size 640x480 with 1 Axes>",
      "image/png": "[encoded data removed]"
     },
     "metadata": {},
     "output_type": "display_data"
    }
   ],
   "source": [
    "apple_share_price_data.plot(x=\"Date\",y=\"Open\")"
   ],
   "metadata": {
    "collapsed": false,
    "ExecuteTime": {
     "start_time": "2023-06-05T02:29:52.533598Z",
     "end_time": "2023-06-05T02:29:54.189314Z"
    }
   }
  },
  {
   "cell_type": "markdown",
   "source": [
    "## Extracting Divident"
   ],
   "metadata": {
    "collapsed": false
   }
  },
  {
   "cell_type": "markdown",
   "source": [
    "Dividends are the distribution of a companys profits to shareholders. In this case they are defined as an amount of money returned per share an investor owns. Using the variable `dividends` we can get a dataframe of the data. The period of the data is given by the period defined in the 'history` function.\n"
   ],
   "metadata": {
    "collapsed": false
   }
  },
  {
   "cell_type": "code",
   "execution_count": 43,
   "outputs": [
    {
     "data": {
      "text/plain": "Date\n1987-05-11 00:00:00-04:00    0.000536\n1987-08-10 00:00:00-04:00    0.000536\n1987-11-17 00:00:00-05:00    0.000714\n1988-02-12 00:00:00-05:00    0.000714\n1988-05-16 00:00:00-04:00    0.000714\n                               ...   \n2022-05-06 00:00:00-04:00    0.230000\n2022-08-05 00:00:00-04:00    0.230000\n2022-11-04 00:00:00-04:00    0.230000\n2023-02-10 00:00:00-05:00    0.230000\n2023-05-12 00:00:00-04:00    0.240000\nName: Dividends, Length: 79, dtype: float64"
     },
     "execution_count": 43,
     "metadata": {},
     "output_type": "execute_result"
    }
   ],
   "source": [
    "apple.dividends"
   ],
   "metadata": {
    "collapsed": false,
    "ExecuteTime": {
     "start_time": "2023-06-05T02:32:50.349490Z",
     "end_time": "2023-06-05T02:32:50.427188Z"
    }
   }
  },
  {
   "cell_type": "code",
   "execution_count": 44,
   "outputs": [
    {
     "data": {
      "text/plain": "<Axes: xlabel='Date'>"
     },
     "execution_count": 44,
     "metadata": {},
     "output_type": "execute_result"
    },
    {
     "data": {
      "text/plain": "<Figure size 640x480 with 1 Axes>",
      "image/png": "[encoded data removed]"
     },
     "metadata": {},
     "output_type": "display_data"
    }
   ],
   "source": [
    "apple.dividends.plot()\n"
   ],
   "metadata": {
    "collapsed": false,
    "ExecuteTime": {
     "start_time": "2023-06-05T02:33:25.444459Z",
     "end_time": "2023-06-05T02:33:25.910027Z"
    }
   }
  },
  {
   "cell_type": "code",
   "execution_count": null,
   "outputs": [],
   "source": [],
   "metadata": {
    "collapsed": false
   }
  }
 ],
 "metadata": {
  "kernelspec": {
   "display_name": "Python 3",
   "language": "python",
   "name": "python3"
  },
  "language_info": {
   "codemirror_mode": {
    "name": "ipython",
    "version": 2
   },
   "file_extension": ".py",
   "mimetype": "text/x-python",
   "name": "python",
   "nbconvert_exporter": "python",
   "pygments_lexer": "ipython2",
   "version": "2.7.6"
  }
 },
 "nbformat": 4,
 "nbformat_minor": 0
}
